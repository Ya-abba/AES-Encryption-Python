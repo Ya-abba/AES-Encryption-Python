{
  "nbformat": 4,
  "nbformat_minor": 0,
  "metadata": {
    "anaconda-cloud": {},
    "kernelspec": {
      "display_name": "Python 3",
      "language": "python",
      "name": "python3"
    },
    "language_info": {
      "codemirror_mode": {
        "name": "ipython",
        "version": 3
      },
      "file_extension": ".py",
      "mimetype": "text/x-python",
      "name": "python",
      "nbconvert_exporter": "python",
      "pygments_lexer": "ipython3",
      "version": "3.6.3"
    },
    "colab": {
      "name": "autoencoder_7_4_symbol.ipynb",
      "provenance": [],
      "include_colab_link": true
    }
  },
  "cells": [
    {
      "cell_type": "markdown",
      "metadata": {
        "id": "view-in-github",
        "colab_type": "text"
      },
      "source": [
        "<a href=\"https://colab.research.google.com/github/Ya-abba/AES-Encryption-Python/blob/master/autoencoder_7_4_symbol.ipynb\" target=\"_parent\"><img src=\"https://colab.research.google.com/assets/colab-badge.svg\" alt=\"Open In Colab\"/></a>"
      ]
    },
    {
      "cell_type": "code",
      "metadata": {
        "id": "cHavaWI2bgqh",
        "colab_type": "code",
        "colab": {}
      },
      "source": [
        "# importing libs\n",
        "import numpy as np\n",
        "import tensorflow as tf\n",
        "from keras.layers import Input, Dense, GaussianNoise\n",
        "from keras.models import Model\n",
        "from keras import regularizers\n",
        "from keras.layers.normalization import BatchNormalization\n",
        "from keras.optimizers import SGD\n",
        "import random as rn"
      ],
      "execution_count": null,
      "outputs": []
    },
    {
      "cell_type": "code",
      "metadata": {
        "id": "9iuOD4sZbgqn",
        "colab_type": "code",
        "colab": {},
        "outputId": "39c15e19-1f89-49d9-c9a9-ba2b237d48c5"
      },
      "source": [
        "# defining parameters\n",
        "M = 16 \n",
        "k = np.log2(M)\n",
        "k = int(k)\n",
        "print ('M:',M,'k:',k)"
      ],
      "execution_count": null,
      "outputs": [
        {
          "output_type": "stream",
          "text": [
            "M: 16 k: 4\n"
          ],
          "name": "stdout"
        }
      ]
    },
    {
      "cell_type": "code",
      "metadata": {
        "id": "9NziABB6bgqs",
        "colab_type": "code",
        "colab": {}
      },
      "source": [
        "#generating data of size N\n",
        "N = 10000\n",
        "label = np.random.randint(M,size=N)"
      ],
      "execution_count": null,
      "outputs": []
    },
    {
      "cell_type": "code",
      "metadata": {
        "id": "Q9QfePQsbgqw",
        "colab_type": "code",
        "colab": {}
      },
      "source": [
        "# creating one hot encoded vectors\n",
        "data = []\n",
        "for i in label:\n",
        "    temp = np.zeros(M)\n",
        "    temp[i] = 1\n",
        "    data.append(temp)"
      ],
      "execution_count": null,
      "outputs": []
    },
    {
      "cell_type": "code",
      "metadata": {
        "id": "ddIy9dgvbgq1",
        "colab_type": "code",
        "colab": {},
        "outputId": "91ffb398-5cef-4c85-8c88-894e2ff83933"
      },
      "source": [
        "data = np.array(data)\n",
        "print (data.shape)"
      ],
      "execution_count": null,
      "outputs": [
        {
          "output_type": "stream",
          "text": [
            "(10000, 16)\n"
          ],
          "name": "stdout"
        }
      ]
    },
    {
      "cell_type": "code",
      "metadata": {
        "id": "mSBsYVDnbgq6",
        "colab_type": "code",
        "colab": {},
        "outputId": "1e6fcb67-188c-41e4-c616-a8d86ee76b41"
      },
      "source": [
        "temp_check = [17,23,45,67,89,96,72,250,350]\n",
        "for i in temp_check:\n",
        "    print(label[i],data[i])"
      ],
      "execution_count": null,
      "outputs": [
        {
          "output_type": "stream",
          "text": [
            "11 [ 0.  0.  0.  0.  0.  0.  0.  0.  0.  0.  0.  1.  0.  0.  0.  0.]\n",
            "6 [ 0.  0.  0.  0.  0.  0.  1.  0.  0.  0.  0.  0.  0.  0.  0.  0.]\n",
            "4 [ 0.  0.  0.  0.  1.  0.  0.  0.  0.  0.  0.  0.  0.  0.  0.  0.]\n",
            "5 [ 0.  0.  0.  0.  0.  1.  0.  0.  0.  0.  0.  0.  0.  0.  0.  0.]\n",
            "2 [ 0.  0.  1.  0.  0.  0.  0.  0.  0.  0.  0.  0.  0.  0.  0.  0.]\n",
            "12 [ 0.  0.  0.  0.  0.  0.  0.  0.  0.  0.  0.  0.  1.  0.  0.  0.]\n",
            "13 [ 0.  0.  0.  0.  0.  0.  0.  0.  0.  0.  0.  0.  0.  1.  0.  0.]\n",
            "14 [ 0.  0.  0.  0.  0.  0.  0.  0.  0.  0.  0.  0.  0.  0.  1.  0.]\n",
            "14 [ 0.  0.  0.  0.  0.  0.  0.  0.  0.  0.  0.  0.  0.  0.  1.  0.]\n"
          ],
          "name": "stdout"
        }
      ]
    },
    {
      "cell_type": "code",
      "metadata": {
        "id": "Pz4E-Fy-bgq-",
        "colab_type": "code",
        "colab": {},
        "outputId": "62e2eb3b-f601-4c4f-9f3d-1ec1e7c0b90b"
      },
      "source": [
        "R = 4/7\n",
        "n_channel = 7\n",
        "print (int(k/R))\n",
        "input_signal = Input(shape=(M,))\n",
        "encoded = Dense(M, activation='relu')(input_signal)\n",
        "encoded1 = Dense(n_channel, activation='linear')(encoded)\n",
        "encoded2 = BatchNormalization()(encoded1)\n",
        "\n",
        "EbNo_train = 5.01187 #  coverted 7 db of EbNo\n",
        "encoded3 = GaussianNoise(np.sqrt(1/(2*R*EbNo_train)))(encoded2)\n",
        "\n",
        "decoded = Dense(M, activation='relu')(encoded3)\n",
        "decoded1 = Dense(M, activation='softmax')(decoded)\n",
        "\n",
        "autoencoder = Model(input_signal, decoded1)\n",
        "#sgd = SGD(lr=0.001)\n",
        "autoencoder.compile(optimizer='adam', loss='categorical_crossentropy')"
      ],
      "execution_count": null,
      "outputs": [
        {
          "output_type": "stream",
          "text": [
            "7\n"
          ],
          "name": "stdout"
        }
      ]
    },
    {
      "cell_type": "code",
      "metadata": {
        "id": "C_tgVyedbgrD",
        "colab_type": "code",
        "colab": {},
        "outputId": "d492ea63-b5de-48be-f014-af48ec8b136f"
      },
      "source": [
        "print (autoencoder.summary())"
      ],
      "execution_count": null,
      "outputs": [
        {
          "output_type": "stream",
          "text": [
            "_________________________________________________________________\n",
            "Layer (type)                 Output Shape              Param #   \n",
            "=================================================================\n",
            "input_5 (InputLayer)         (None, 16)                0         \n",
            "_________________________________________________________________\n",
            "dense_9 (Dense)              (None, 16)                272       \n",
            "_________________________________________________________________\n",
            "dense_10 (Dense)             (None, 7)                 119       \n",
            "_________________________________________________________________\n",
            "batch_normalization_3 (Batch (None, 7)                 28        \n",
            "_________________________________________________________________\n",
            "gaussian_noise_3 (GaussianNo (None, 7)                 0         \n",
            "_________________________________________________________________\n",
            "dense_11 (Dense)             (None, 16)                128       \n",
            "_________________________________________________________________\n",
            "dense_12 (Dense)             (None, 16)                272       \n",
            "=================================================================\n",
            "Total params: 819\n",
            "Trainable params: 805\n",
            "Non-trainable params: 14\n",
            "_________________________________________________________________\n",
            "None\n"
          ],
          "name": "stdout"
        }
      ]
    },
    {
      "cell_type": "code",
      "metadata": {
        "id": "tNAJGk1AbgrK",
        "colab_type": "code",
        "colab": {}
      },
      "source": [
        "N_val = 1500\n",
        "val_label = np.random.randint(M,size=N_val)\n",
        "val_data = []\n",
        "for i in val_label:\n",
        "    temp = np.zeros(M)\n",
        "    temp[i] = 1\n",
        "    val_data.append(temp)\n",
        "val_data = np.array(val_data)"
      ],
      "execution_count": null,
      "outputs": []
    },
    {
      "cell_type": "code",
      "metadata": {
        "scrolled": true,
        "id": "RtBsCaG0bgrN",
        "colab_type": "code",
        "colab": {},
        "outputId": "254f1dcd-c8e6-40b2-b1d6-abd9f22b39d5"
      },
      "source": [
        "autoencoder.fit(data, data,\n",
        "                epochs=17,\n",
        "                batch_size=300,\n",
        "                validation_data=(val_data, val_data))"
      ],
      "execution_count": null,
      "outputs": [
        {
          "output_type": "stream",
          "text": [
            "Train on 10000 samples, validate on 1500 samples\n",
            "Epoch 1/17\n",
            "10000/10000 [==============================] - 0s - loss: 2.4397 - val_loss: 2.6391\n",
            "Epoch 2/17\n",
            "10000/10000 [==============================] - 0s - loss: 1.9941 - val_loss: 2.4919\n",
            "Epoch 3/17\n",
            "10000/10000 [==============================] - 0s - loss: 1.6196 - val_loss: 2.2910\n",
            "Epoch 4/17\n",
            "10000/10000 [==============================] - 0s - loss: 1.2889 - val_loss: 2.0355\n",
            "Epoch 5/17\n",
            "10000/10000 [==============================] - 0s - loss: 0.9983 - val_loss: 1.7330\n",
            "Epoch 6/17\n",
            "10000/10000 [==============================] - 0s - loss: 0.7578 - val_loss: 1.4023\n",
            "Epoch 7/17\n",
            "10000/10000 [==============================] - 0s - loss: 0.5730 - val_loss: 1.0829\n",
            "Epoch 8/17\n",
            "10000/10000 [==============================] - 0s - loss: 0.4313 - val_loss: 0.7943\n",
            "Epoch 9/17\n",
            "10000/10000 [==============================] - 0s - loss: 0.3188 - val_loss: 0.5534\n",
            "Epoch 10/17\n",
            "10000/10000 [==============================] - 0s - loss: 0.2373 - val_loss: 0.3709\n",
            "Epoch 11/17\n",
            "10000/10000 [==============================] - 0s - loss: 0.1768 - val_loss: 0.2380\n",
            "Epoch 12/17\n",
            "10000/10000 [==============================] - 0s - loss: 0.1325 - val_loss: 0.1516\n",
            "Epoch 13/17\n",
            "10000/10000 [==============================] - 0s - loss: 0.1031 - val_loss: 0.0992\n",
            "Epoch 14/17\n",
            "10000/10000 [==============================] - 0s - loss: 0.0803 - val_loss: 0.0669\n",
            "Epoch 15/17\n",
            "10000/10000 [==============================] - 0s - loss: 0.0637 - val_loss: 0.0467\n",
            "Epoch 16/17\n",
            "10000/10000 [==============================] - 0s - loss: 0.0544 - val_loss: 0.0343\n",
            "Epoch 17/17\n",
            "10000/10000 [==============================] - 0s - loss: 0.0440 - val_loss: 0.0258\n"
          ],
          "name": "stdout"
        },
        {
          "output_type": "execute_result",
          "data": {
            "text/plain": [
              "<keras.callbacks.History at 0x7f37be5e56a0>"
            ]
          },
          "metadata": {
            "tags": []
          },
          "execution_count": 43
        }
      ]
    },
    {
      "cell_type": "code",
      "metadata": {
        "id": "O2BaBi-YbgrR",
        "colab_type": "code",
        "colab": {}
      },
      "source": [
        "from keras.models import load_model\n",
        "#autoencoder.save('4_7_symbol_autoencoder_v_best.model')"
      ],
      "execution_count": null,
      "outputs": []
    },
    {
      "cell_type": "code",
      "metadata": {
        "id": "Kev0EGmcbgrV",
        "colab_type": "code",
        "colab": {}
      },
      "source": [
        "#autoencoder_loaded = load_model('4_7_symbol_autoencoder_v_best.model')"
      ],
      "execution_count": null,
      "outputs": []
    },
    {
      "cell_type": "code",
      "metadata": {
        "id": "d1ZB-bXPbgrZ",
        "colab_type": "code",
        "colab": {}
      },
      "source": [
        "encoder = Model(input_signal, encoded2)"
      ],
      "execution_count": null,
      "outputs": []
    },
    {
      "cell_type": "code",
      "metadata": {
        "id": "3sYdTcTzbgrd",
        "colab_type": "code",
        "colab": {}
      },
      "source": [
        "encoded_input = Input(shape=(n_channel,))\n",
        "\n",
        "deco = autoencoder.layers[-2](encoded_input)\n",
        "deco = autoencoder.layers[-1](deco)\n",
        "# create the decoder model\n",
        "decoder = Model(encoded_input, deco)"
      ],
      "execution_count": null,
      "outputs": []
    },
    {
      "cell_type": "code",
      "metadata": {
        "id": "14dEE-cXbgrg",
        "colab_type": "code",
        "colab": {}
      },
      "source": [
        "N = 45000\n",
        "test_label = np.random.randint(M,size=N)\n",
        "test_data = []\n",
        "\n",
        "for i in test_label:\n",
        "    temp = np.zeros(M)\n",
        "    temp[i] = 1\n",
        "    test_data.append(temp)\n",
        "    \n",
        "test_data = np.array(test_data)"
      ],
      "execution_count": null,
      "outputs": []
    },
    {
      "cell_type": "code",
      "metadata": {
        "id": "7nVnzRRMbgrj",
        "colab_type": "code",
        "colab": {},
        "outputId": "2da2cf5d-dda1-4554-c545-21b7fd63f313"
      },
      "source": [
        "temp_test = 6\n",
        "print (test_data[temp_test][test_label[temp_test]],test_label[temp_test])"
      ],
      "execution_count": null,
      "outputs": [
        {
          "output_type": "stream",
          "text": [
            "1.0 13\n"
          ],
          "name": "stdout"
        }
      ]
    },
    {
      "cell_type": "code",
      "metadata": {
        "id": "fswTBSzhbgrm",
        "colab_type": "code",
        "colab": {},
        "outputId": "6c7b4a05-1ca2-4342-eaa2-f4dee5f56a63"
      },
      "source": [
        "autoencoder"
      ],
      "execution_count": null,
      "outputs": [
        {
          "output_type": "execute_result",
          "data": {
            "text/plain": [
              "<keras.engine.training.Model at 0x7f37beeaccc0>"
            ]
          },
          "metadata": {
            "tags": []
          },
          "execution_count": 50
        }
      ]
    },
    {
      "cell_type": "code",
      "metadata": {
        "id": "XNplVhCCbgrq",
        "colab_type": "code",
        "colab": {}
      },
      "source": [
        "def frange(x, y, jump):\n",
        "  while x < y:\n",
        "    yield x\n",
        "    x += jump"
      ],
      "execution_count": null,
      "outputs": []
    },
    {
      "cell_type": "code",
      "metadata": {
        "id": "rcl-5yt_bgru",
        "colab_type": "code",
        "colab": {},
        "outputId": "5b80bd05-6dc5-49a4-8503-951cc4b42a99"
      },
      "source": [
        "EbNodB_range = list(frange(-4,8.5,0.5))\n",
        "ber = [None]*len(EbNodB_range)\n",
        "for n in range(0,len(EbNodB_range)):\n",
        "    EbNo=10.0**(EbNodB_range[n]/10.0)\n",
        "    noise_std = np.sqrt(1/(2*R*EbNo))\n",
        "    noise_mean = 0\n",
        "    no_errors = 0\n",
        "    nn = N\n",
        "    noise = noise_std * np.random.randn(nn,n_channel)\n",
        "    encoded_signal = encoder.predict(test_data) \n",
        "    final_signal = encoded_signal + noise\n",
        "    pred_final_signal =  decoder.predict(final_signal)\n",
        "    pred_output = np.argmax(pred_final_signal,axis=1)\n",
        "    no_errors = (pred_output != test_label)\n",
        "    no_errors =  no_errors.astype(int).sum()\n",
        "    ber[n] = no_errors / nn \n",
        "    print ('SNR:',EbNodB_range[n],'BER:',ber[n])"
      ],
      "execution_count": null,
      "outputs": [
        {
          "output_type": "stream",
          "text": [
            "SNR: -4 BER: 0.341422222222\n",
            "SNR: -3.5 BER: 0.306422222222\n",
            "SNR: -3.0 BER: 0.266755555556\n",
            "SNR: -2.5 BER: 0.233888888889\n",
            "SNR: -2.0 BER: 0.195488888889\n",
            "SNR: -1.5 BER: 0.168711111111\n",
            "SNR: -1.0 BER: 0.132488888889\n",
            "SNR: -0.5 BER: 0.109\n",
            "SNR: 0.0 BER: 0.0812444444444\n",
            "SNR: 0.5 BER: 0.0620222222222\n",
            "SNR: 1.0 BER: 0.0431555555556\n",
            "SNR: 1.5 BER: 0.0314444444444\n",
            "SNR: 2.0 BER: 0.0214222222222\n",
            "SNR: 2.5 BER: 0.0152888888889\n",
            "SNR: 3.0 BER: 0.00926666666667\n",
            "SNR: 3.5 BER: 0.00515555555556\n",
            "SNR: 4.0 BER: 0.00328888888889\n",
            "SNR: 4.5 BER: 0.00164444444444\n",
            "SNR: 5.0 BER: 0.000644444444444\n",
            "SNR: 5.5 BER: 0.000355555555556\n",
            "SNR: 6.0 BER: 0.000133333333333\n",
            "SNR: 6.5 BER: 0.000155555555556\n",
            "SNR: 7.0 BER: 4.44444444444e-05\n",
            "SNR: 7.5 BER: 2.22222222222e-05\n",
            "SNR: 8.0 BER: 0.0\n"
          ],
          "name": "stdout"
        }
      ]
    },
    {
      "cell_type": "code",
      "metadata": {
        "id": "A3xlBR1Dbgry",
        "colab_type": "code",
        "colab": {},
        "outputId": "f11920b8-eded-4cb2-acc7-1b375ce1ce7a"
      },
      "source": [
        "import matplotlib.pyplot as plt\n",
        "plt.plot(EbNodB_range, ber, 'bo',label='Autoencoder(7,4)')\n",
        "#plt.plot(list(EbNodB_range), ber_theory, 'ro-',label='BPSK BER')\n",
        "plt.yscale('log')\n",
        "plt.xlabel('SNR Range')\n",
        "plt.ylabel('Block Error Rate')\n",
        "plt.grid()\n",
        "plt.legend(loc='upper right',ncol = 1)"
      ],
      "execution_count": null,
      "outputs": [
        {
          "output_type": "execute_result",
          "data": {
            "text/plain": [
              "<matplotlib.legend.Legend at 0x7f37be21cb70>"
            ]
          },
          "metadata": {
            "tags": []
          },
          "execution_count": 53
        }
      ]
    },
    {
      "cell_type": "code",
      "metadata": {
        "id": "MDUKc1h0bgr1",
        "colab_type": "code",
        "colab": {},
        "outputId": "4aacc644-73ad-453e-b653-434f0a835bf8"
      },
      "source": [
        "plt.savefig('AutoEncoder_7_4_BER_matplotlib')\n",
        "plt.show()"
      ],
      "execution_count": null,
      "outputs": [
        {
          "output_type": "display_data",
          "data": {
            "image/png": "[encoded data removed]",
            "text/plain": [
              "<matplotlib.figure.Figure at 0x7f37be21c208>"
            ]
          },
          "metadata": {
            "tags": []
          }
        }
      ]
    },
    {
      "cell_type": "code",
      "metadata": {
        "id": "JGgafS4_bgr5",
        "colab_type": "code",
        "colab": {}
      },
      "source": [
        ""
      ],
      "execution_count": null,
      "outputs": []
    }
  ]
}